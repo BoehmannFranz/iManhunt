Umgebung: Anaconda, Dev-Env iManhunt
Stand: 2025-08-17
Hinweis: Dieses „Notebook“ ist rein konzeptionell: nur Markdown & LaTeX (kein Code).

